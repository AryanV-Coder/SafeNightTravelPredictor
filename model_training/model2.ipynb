{
 "cells": [
  {
   "cell_type": "code",
   "execution_count": null,
   "id": "d4246487",
   "metadata": {},
   "outputs": [],
   "source": [
    "import numpy as np\n",
    "import pandas as pd\n",
    "import matplotlib.pyplot as plt"
   ]
  },
  {
   "cell_type": "code",
   "execution_count": null,
   "id": "f73324e7",
   "metadata": {},
   "outputs": [],
   "source": [
    "df = pd.read_csv(\"safe_night_travel_dummy_data.csv\")\n",
    "df"
   ]
  }
 ],
 "metadata": {
  "language_info": {
   "name": "python"
  }
 },
 "nbformat": 4,
 "nbformat_minor": 5
}
